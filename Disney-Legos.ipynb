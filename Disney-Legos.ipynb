{
 "cells": [
  {
   "cell_type": "code",
   "execution_count": 3,
   "id": "ac697dc6",
   "metadata": {},
   "outputs": [
    {
     "name": "stdout",
     "output_type": "stream",
     "text": [
      "         ages  list_price  num_reviews  piece_count  play_star_rating  \\\n",
      "0      12-Jun     29.9900          2.0          277               4.0   \n",
      "1      12-Jun     19.9900          2.0          168               4.0   \n",
      "2      12-Jun     12.9900         11.0           74               4.3   \n",
      "3         12+     99.9900         23.0         1032               3.6   \n",
      "4         12+     79.9900         14.0          744               3.2   \n",
      "...       ...         ...          ...          ...               ...   \n",
      "12256  14-Jul     36.5878          6.0          341               4.4   \n",
      "12257  14-Jul     24.3878          8.0          217               4.1   \n",
      "12258  14-Jul     24.3878         18.0          233               4.6   \n",
      "12259  14-Jun     12.1878          1.0           48               5.0   \n",
      "12260  14-Jun     12.1878         11.0          109               4.5   \n",
      "\n",
      "                                               prod_desc  prod_id  \\\n",
      "0      Catapult into action and take back the eggs fr...    75823   \n",
      "1      Launch a flying attack and rescue the eggs fro...    75822   \n",
      "2      Chase the piggy with lightning-fast Chuck and ...    75821   \n",
      "3      Explore the architecture of the United States ...    21030   \n",
      "4      Recreate the Solomon R. Guggenheim Museum® wit...    21035   \n",
      "...                                                  ...      ...   \n",
      "12256  Protect NINJAGO® City from flying Manta Ray Bo...    70609   \n",
      "12257         Stop a Piranha Attack with Kai and Misako!    70629   \n",
      "12258   Stop a crime in the NINJAGO® City street market!    70607   \n",
      "12259  Achieve Spinjitzu greatness with the Green Ninja!    70628   \n",
      "12260  Practice your Spinjitzu skills with Kai and Zane!    70606   \n",
      "\n",
      "                                          prod_long_desc review_difficulty  \\\n",
      "0      Use the staircase catapult to launch Red into ...           Average   \n",
      "1      Pilot Pig has taken off from Bird Island with ...              Easy   \n",
      "2      Pitch speedy bird Chuck against the Piggy Car....              Easy   \n",
      "3      Discover the architectural secrets of the icon...           Average   \n",
      "4      Discover the architectural secrets of Frank Ll...       Challenging   \n",
      "...                                                  ...               ...   \n",
      "12256  Help Cole save Shen-Li in this cool THE LEGO® ...              Easy   \n",
      "12257  Play out an action-packed Piranha Mech pursuit...              Easy   \n",
      "12258  Team up with Lloyd Garmadon, Nya and Officer T...              Easy   \n",
      "12259  Learn all the skills of Spinjitzu with THE LEG...         Very Easy   \n",
      "12260  Join the ninja heroes at the dojo with this ac...              Easy   \n",
      "\n",
      "                             set_name  star_rating                 theme_name  \\\n",
      "0               Bird Island Egg Heist          4.5               Angry Birds™   \n",
      "1                  Piggy Plane Attack          5.0               Angry Birds™   \n",
      "2                    Piggy Car Escape          4.3               Angry Birds™   \n",
      "3      United States Capitol Building          4.6               Architecture   \n",
      "4       Solomon R. Guggenheim Museum®          4.6               Architecture   \n",
      "...                               ...          ...                        ...   \n",
      "12256                Manta Ray Bomber          4.3  THE LEGO® NINJAGO® MOVIE™   \n",
      "12257                  Piranha Attack          3.6  THE LEGO® NINJAGO® MOVIE™   \n",
      "12258             NINJAGO® City Chase          4.6  THE LEGO® NINJAGO® MOVIE™   \n",
      "12259        Lloyd - Spinjitzu Master          5.0  THE LEGO® NINJAGO® MOVIE™   \n",
      "12260              Spinjitzu Training          4.7  THE LEGO® NINJAGO® MOVIE™   \n",
      "\n",
      "       val_star_rating country  \n",
      "0                  4.0      US  \n",
      "1                  4.0      US  \n",
      "2                  4.1      US  \n",
      "3                  4.3      US  \n",
      "4                  4.1      US  \n",
      "...                ...     ...  \n",
      "12256              4.2      PT  \n",
      "12257              4.1      PT  \n",
      "12258              4.5      PT  \n",
      "12259              5.0      PT  \n",
      "12260              4.8      PT  \n",
      "\n",
      "[12261 rows x 14 columns]\n"
     ]
    }
   ],
   "source": [
    "import pandas as pd\n",
    "import numpy as np\n",
    "\n",
    "#does the popularity of a disney movie correlate with whether it gets turned into a lego set\n",
    "# Local file path to the downloaded CSV file\n",
    "file_path = 'downloads/lego_sets.csv'\n",
    "\n",
    "# Read the CSV file into a DataFrame\n",
    "df = pd.read_csv(file_path)\n",
    "\n",
    "# Print the DataFrame\n",
    "print(df)\n"
   ]
  },
  {
   "cell_type": "code",
   "execution_count": null,
   "id": "9ac31e16",
   "metadata": {},
   "outputs": [],
   "source": []
  },
  {
   "cell_type": "code",
   "execution_count": null,
   "id": "3773a083",
   "metadata": {},
   "outputs": [],
   "source": []
  }
 ],
 "metadata": {
  "kernelspec": {
   "display_name": "Python 3 (ipykernel)",
   "language": "python",
   "name": "python3"
  },
  "language_info": {
   "codemirror_mode": {
    "name": "ipython",
    "version": 3
   },
   "file_extension": ".py",
   "mimetype": "text/x-python",
   "name": "python",
   "nbconvert_exporter": "python",
   "pygments_lexer": "ipython3",
   "version": "3.11.7"
  }
 },
 "nbformat": 4,
 "nbformat_minor": 5
}
